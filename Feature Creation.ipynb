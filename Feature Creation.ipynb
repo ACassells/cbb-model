{
 "cells": [
  {
   "cell_type": "code",
   "execution_count": 7,
   "metadata": {},
   "outputs": [],
   "source": [
    "import numpy as np\n",
    "import pandas as pd\n",
    "import gc\n"
   ]
  },
  {
   "cell_type": "code",
   "execution_count": 2,
   "metadata": {},
   "outputs": [
    {
     "name": "stdout",
     "output_type": "stream",
     "text": [
      "102617\n"
     ]
    }
   ],
   "source": [
    "seasons = list(range(2011,2020))\n",
    "\n",
    "df = None\n",
    "\n",
    "for s in seasons:\n",
    "    path = './output/{}_boxscores.csv'.format(str(s))\n",
    "    _df = pd.read_csv(path)\n",
    "    \n",
    "    if df is not None:\n",
    "        df = pd.concat([df,_df],axis=0)\n",
    "    else:\n",
    "        df = _df\n",
    "        \n",
    "print(len(df))\n",
    "\n",
    "df = df.drop(columns=['away_ranking','home_ranking'])\n"
   ]
  },
  {
   "cell_type": "code",
   "execution_count": 3,
   "metadata": {},
   "outputs": [
    {
     "name": "stdout",
     "output_type": "stream",
     "text": [
      "['Ferrum\\n\\t\\t\\t', 'Georgian Court\\n\\t\\t\\t', 'Martin Methodist\\n\\t\\t\\t', 'Idaho', 'Denison\\n\\t\\t\\t', 'Louisiana College\\n\\t\\t\\t', 'Cumberland\\n\\t\\t\\t', 'Milwaukee', 'Dalton State\\n\\t\\t\\t', 'Minot State\\n\\t\\t\\t', 'St. Thomas Aquinas\\n\\t\\t\\t', 'Ohio', 'UConn', 'Quincy\\n\\t\\t\\t', 'Louisiana State-Alexandria\\n\\t\\t\\t']\n",
      "355\n",
      "['Idaho', 'Milwaukee', 'Ohio', 'UConn', 'North Dakota', 'Omaha', 'Colgate', 'Ball State', 'Delaware', 'Lafayette', 'Creighton', 'Oregon', 'Utah State', 'Wake Forest', 'Miami (FL)']\n"
     ]
    }
   ],
   "source": [
    "all_teams = list(set(list(df['winning_name'].values)+list(df['losing_name'].values)))\n",
    "print(all_teams[:15])\n",
    "\n",
    "teams = []\n",
    "for t in all_teams:\n",
    "    if '\\n\\t\\t\\t' not in t:\n",
    "        teams.append(t)\n",
    "        \n",
    "print(len(teams))\n",
    "print(teams[:15])"
   ]
  },
  {
   "cell_type": "code",
   "execution_count": 4,
   "metadata": {},
   "outputs": [],
   "source": [
    "def add_season(df):\n",
    "    # datetime\n",
    "    df['date'] = pd.to_datetime(df['date'])\n",
    "    \n",
    "    df['month'] = df['date'].copy().dt.month.astype(int)\n",
    "    df['year'] = df['date'].copy().dt.year.astype(int)\n",
    "    df['season'] = df['year'].copy()\n",
    "    df['season'] = np.where(df['month']>9, df['season']+1, df['season'])\n",
    "    \n",
    "    df = df.drop(columns=['month','year'])\n",
    "    \n",
    "    return df\n",
    "\n",
    "df = add_season(df)\n"
   ]
  },
  {
   "cell_type": "markdown",
   "metadata": {},
   "source": [
    "## Features\n",
    "\n",
    "Time span types\n",
    "- EWA season\n",
    "- RA season\n",
    "- EWA last 5 seasons\n",
    "\n",
    "Box score feats\n",
    "- offensive rating\n",
    "- defensive rating\n",
    "- pct of points from FTs\n",
    "- pct of points from 2Pts\n",
    "- pct of points form 3Pts\n",
    "- offensive rebound rate\n",
    "- defensive rebound rate\n",
    "- pace\n",
    "- win pct\n",
    "- past opp offensive rtg\n",
    "- past opp defensive rtg\n",
    "\n",
    "*Both for team and opponent\n",
    "\n"
   ]
  },
  {
   "cell_type": "code",
   "execution_count": 5,
   "metadata": {},
   "outputs": [
    {
     "name": "stdout",
     "output_type": "stream",
     "text": [
      "106368\n"
     ]
    },
    {
     "data": {
      "text/html": [
       "<div>\n",
       "<style scoped>\n",
       "    .dataframe tbody tr th:only-of-type {\n",
       "        vertical-align: middle;\n",
       "    }\n",
       "\n",
       "    .dataframe tbody tr th {\n",
       "        vertical-align: top;\n",
       "    }\n",
       "\n",
       "    .dataframe thead th {\n",
       "        text-align: right;\n",
       "    }\n",
       "</style>\n",
       "<table border=\"1\" class=\"dataframe\">\n",
       "  <thead>\n",
       "    <tr style=\"text-align: right;\">\n",
       "      <th></th>\n",
       "      <th>home_id</th>\n",
       "      <th>away_id</th>\n",
       "    </tr>\n",
       "  </thead>\n",
       "  <tbody>\n",
       "    <tr>\n",
       "      <th>0</th>\n",
       "      <td>2011airforce</td>\n",
       "      <td>2011colorado-coloradosprings</td>\n",
       "    </tr>\n",
       "    <tr>\n",
       "      <th>1</th>\n",
       "      <td>2011airforce</td>\n",
       "      <td>2011coloradocollege</td>\n",
       "    </tr>\n",
       "    <tr>\n",
       "      <th>2</th>\n",
       "      <td>2011airforce</td>\n",
       "      <td>2011tennesseestate</td>\n",
       "    </tr>\n",
       "    <tr>\n",
       "      <th>3</th>\n",
       "      <td>2011wofford</td>\n",
       "      <td>2011airforce</td>\n",
       "    </tr>\n",
       "    <tr>\n",
       "      <th>4</th>\n",
       "      <td>2011airforce</td>\n",
       "      <td>2011calstatenorthridge</td>\n",
       "    </tr>\n",
       "  </tbody>\n",
       "</table>\n",
       "</div>"
      ],
      "text/plain": [
       "        home_id                       away_id\n",
       "0  2011airforce  2011colorado-coloradosprings\n",
       "1  2011airforce           2011coloradocollege\n",
       "2  2011airforce            2011tennesseestate\n",
       "3   2011wofford                  2011airforce\n",
       "4  2011airforce        2011calstatenorthridge"
      ]
     },
     "execution_count": 5,
     "metadata": {},
     "output_type": "execute_result"
    }
   ],
   "source": [
    "# game ids\n",
    "def add_ids(df):\n",
    "    df['wn_copy'] = df['winning_name'].str.replace('\\n\\t\\t\\t','').str.replace(' ','').str.lower()\n",
    "    df['ln_copy'] = df['losing_name'].str.replace('\\n\\t\\t\\t','').str.replace(' ','').str.lower()\n",
    "    \n",
    "    df['wn_copy2'] = df['wn_copy'].str[:3]\n",
    "    df['wn_copy3'] = df['wn_copy'].str[-3:]\n",
    "    \n",
    "    df['ln_copy2'] = df['ln_copy'].str[:3]\n",
    "    df['ln_copy3'] = df['ln_copy'].str[-3:]\n",
    "    \n",
    "    df['game_id'] = df['date'].dt.strftime('%m%d%y') + df['wn_copy2'] + df['wn_copy3'] + df['ln_copy2']  + df['ln_copy3']\n",
    "    \n",
    "#     old = len(df)\n",
    "    df = df.drop_duplicates(subset=['game_id'])\n",
    "#     new = len(df)\n",
    "    # 53184\n",
    "    \n",
    "#     print(\"Successfully dropped {} duplicate box scores\".format(old-new))\n",
    "    \n",
    "    df = df.drop(columns=['wn_copy2','ln_copy2','wn_copy3','ln_copy3'])\n",
    "    \n",
    "    df['team1_id'] = df['season'].astype(str)+df['wn_copy']\n",
    "    df['team2_id'] = df['season'].astype(str)+df['ln_copy']\n",
    "    \n",
    "    df2 = df.copy()\n",
    "    \n",
    "    df = df.drop(columns=['team1_id'])\n",
    "    df2 = df2.drop(columns=['team2_id'])\n",
    "    df = df.rename(columns={'team2_id':'team_id'})\n",
    "    df2 = df2.rename(columns={'team1_id':'team_id'})\n",
    "    \n",
    "    df = pd.concat([df,df2],axis=0)\n",
    "    \n",
    "    df['home_id'] = np.where(df['winner']=='Home', df['season'].astype(str)+df['wn_copy'], df['season'].astype(str)+df['ln_copy'])\n",
    "    df['away_id'] = np.where(df['winner']=='Away', df['season'].astype(str)+df['wn_copy'], df['season'].astype(str)+df['ln_copy'])\n",
    "    \n",
    "    df['win_id'] = df['season'].astype(str)+df['wn_copy']\n",
    "    df['lose_id'] = df['season'].astype(str)+df['ln_copy']\n",
    "    \n",
    "    df = df.drop(columns=['wn_copy','ln_copy'])\n",
    "    \n",
    "    print(len(df))\n",
    "    #106,368\n",
    "    \n",
    "    return df\n",
    "\n",
    "df = add_ids(df)\n",
    "\n",
    "df[['home_id','away_id']].head()"
   ]
  },
  {
   "cell_type": "code",
   "execution_count": 6,
   "metadata": {},
   "outputs": [
    {
     "ename": "NameError",
     "evalue": "name 'gc' is not defined",
     "output_type": "error",
     "traceback": [
      "\u001b[0;31m---------------------------------------------------------------------------\u001b[0m",
      "\u001b[0;31mNameError\u001b[0m                                 Traceback (most recent call last)",
      "\u001b[0;32m<ipython-input-6-6d94b388fca4>\u001b[0m in \u001b[0;36m<module>\u001b[0;34m\u001b[0m\n\u001b[1;32m      5\u001b[0m \u001b[0;34m\u001b[0m\u001b[0m\n\u001b[1;32m      6\u001b[0m \u001b[0;32mdel\u001b[0m \u001b[0mdf\u001b[0m\u001b[0;34m\u001b[0m\u001b[0;34m\u001b[0m\u001b[0m\n\u001b[0;32m----> 7\u001b[0;31m \u001b[0mgc\u001b[0m\u001b[0;34m.\u001b[0m\u001b[0mcollect\u001b[0m\u001b[0;34m(\u001b[0m\u001b[0;34m)\u001b[0m\u001b[0;34m\u001b[0m\u001b[0;34m\u001b[0m\u001b[0m\n\u001b[0m",
      "\u001b[0;31mNameError\u001b[0m: name 'gc' is not defined"
     ]
    }
   ],
   "source": [
    "# need team-specific ratings leading up to game\n",
    "# opponent ratings will be harder\n",
    "home_games = df.loc[df['home_id']==df['team_id']]\n",
    "away_games = df.loc[df['away_id']==df['team_id']]\n",
    "\n",
    "del df\n",
    "gc.collect()"
   ]
  },
  {
   "cell_type": "code",
   "execution_count": 8,
   "metadata": {},
   "outputs": [
    {
     "name": "stdout",
     "output_type": "stream",
     "text": [
      "['assist_percentage', 'assists', 'block_percentage', 'blocks', 'defensive_rating', 'defensive_rebound_percentage', 'defensive_rebounds', 'effective_field_goal_percentage', 'field_goal_attempts', 'field_goal_percentage', 'field_goals', 'free_throw_attempt_rate', 'free_throw_attempts', 'free_throw_percentage', 'free_throws', 'losses', 'minutes_played', 'offensive_rating', 'offensive_rebound_percentage', 'offensive_rebounds', 'personal_fouls', 'points', 'steal_percentage', 'steals', 'three_point_attempt_rate', 'three_point_field_goal_attempts', 'three_point_field_goal_percentage', 'three_point_field_goals', 'total_rebound_percentage', 'total_rebounds', 'true_shooting_percentage', 'turnover_percentage', 'turnovers', 'two_point_field_goal_attempts', 'two_point_field_goal_percentage', 'two_point_field_goals', 'win_percentage', 'wins', 'date', 'opp_assist_percentage', 'opp_assists', 'opp_block_percentage', 'opp_blocks', 'opp_defensive_rating', 'opp_defensive_rebound_percentage', 'opp_defensive_rebounds', 'opp_effective_field_goal_percentage', 'opp_field_goal_attempts', 'opp_field_goal_percentage', 'opp_field_goals', 'opp_free_throw_attempt_rate', 'opp_free_throw_attempts', 'opp_free_throw_percentage', 'opp_free_throws', 'opp_losses', 'opp_minutes_played', 'opp_offensive_rating', 'opp_offensive_rebound_percentage', 'opp_offensive_rebounds', 'opp_personal_fouls', 'opp_points', 'opp_steal_percentage', 'opp_steals', 'opp_three_point_attempt_rate', 'opp_three_point_field_goal_attempts', 'opp_three_point_field_goal_percentage', 'opp_three_point_field_goals', 'opp_total_rebound_percentage', 'opp_total_rebounds', 'opp_true_shooting_percentage', 'opp_turnover_percentage', 'opp_turnovers', 'opp_two_point_field_goal_attempts', 'opp_two_point_field_goal_percentage', 'opp_two_point_field_goals', 'opp_win_percentage', 'opp_wins', 'location', 'losing_abbr', 'losing_name', 'pace', 'winner', 'winning_abbr', 'winning_name', 'season', 'wn_copy', 'ln_copy', 'game_id', 'team_id', 'opp_id', 'id', 'win_id', 'lose_id']\n"
     ]
    },
    {
     "data": {
      "text/plain": [
       "14"
      ]
     },
     "execution_count": 8,
     "metadata": {},
     "output_type": "execute_result"
    }
   ],
   "source": [
    "# change column names\n",
    "old_cols = list(home_games)\n",
    "home_cols = []\n",
    "\n",
    "for oc in old_cols:\n",
    "    if 'away_' in oc:\n",
    "        hc = oc.replace('away_','opp_')\n",
    "    elif 'home_' in oc:\n",
    "        hc = oc.replace('home_','')\n",
    "    else:\n",
    "        hc = oc\n",
    "    home_cols.append(hc)\n",
    "    \n",
    "# opposite for away_cols\n",
    "away_cols = []\n",
    "\n",
    "for oc in old_cols:\n",
    "    if 'home_' in oc:\n",
    "        ac = oc.replace('home_','opp_')\n",
    "    elif 'away_' in oc:\n",
    "        ac = oc.replace('away_','')\n",
    "    else:\n",
    "        ac = oc\n",
    "    away_cols.append(ac)\n",
    "    \n",
    "home_games.columns=home_cols\n",
    "away_games.columns=away_cols\n",
    "\n",
    "col_order = list(away_games)\n",
    "home_games = home_games[col_order]\n",
    "\n",
    "df = pd.concat([home_games,away_games], axis=0)\n",
    "\n",
    "# already have this column\n",
    "df = df.drop(columns=['team_id'])\n",
    "\n",
    "del home_games\n",
    "del away_games\n",
    "gc.collect()"
   ]
  },
  {
   "cell_type": "code",
   "execution_count": 21,
   "metadata": {},
   "outputs": [
    {
     "name": "stdout",
     "output_type": "stream",
     "text": [
      "Dropped 67 unnecessary columns\n"
     ]
    }
   ],
   "source": [
    "# cols ready for running averages\n",
    "dcols = ['offensive_rating','defensive_rating','pace']\n",
    "\n",
    "# cols needed for feature creation\n",
    "ncols = ['free_throws','two_point_field_goals','three_point_field_goals',\n",
    "        'offensive_rebounds','defensive_rebounds','opp_offensive_rebounds','opp_defensive_rebounds',\n",
    "        'wins','losses',\n",
    "        'opp_offensive_rating','opp_defensive_rating']\n",
    "\n",
    "# cols necessary to keep \n",
    "nncols = ['date','id','opp_id','game_id','season','win_id','lose_id','points','opp_points']\n",
    "\n",
    "cols = nncols+dcols+ncols\n",
    "\n",
    "old_num_cols = len(list(df))\n",
    "df = df[cols]\n",
    "new_num_cols = len(list(df))\n",
    "\n",
    "print(\"Dropped {} unnecessary columns\".format(old_num_cols-new_num_cols))"
   ]
  },
  {
   "cell_type": "code",
   "execution_count": 17,
   "metadata": {},
   "outputs": [],
   "source": [
    "# compute vectors for every team at time of each game\n",
    "df = df.sort_values(by=['date'], ascending=True)\n"
   ]
  },
  {
   "cell_type": "code",
   "execution_count": 20,
   "metadata": {},
   "outputs": [
    {
     "data": {
      "text/html": [
       "<div>\n",
       "<style scoped>\n",
       "    .dataframe tbody tr th:only-of-type {\n",
       "        vertical-align: middle;\n",
       "    }\n",
       "\n",
       "    .dataframe tbody tr th {\n",
       "        vertical-align: top;\n",
       "    }\n",
       "\n",
       "    .dataframe thead th {\n",
       "        text-align: right;\n",
       "    }\n",
       "</style>\n",
       "<table border=\"1\" class=\"dataframe\">\n",
       "  <thead>\n",
       "    <tr style=\"text-align: right;\">\n",
       "      <th></th>\n",
       "      <th>points</th>\n",
       "      <th>opp_points</th>\n",
       "    </tr>\n",
       "  </thead>\n",
       "  <tbody>\n",
       "    <tr>\n",
       "      <th>1299</th>\n",
       "      <td>65</td>\n",
       "      <td>79</td>\n",
       "    </tr>\n",
       "    <tr>\n",
       "      <th>7567</th>\n",
       "      <td>75</td>\n",
       "      <td>83</td>\n",
       "    </tr>\n",
       "    <tr>\n",
       "      <th>6166</th>\n",
       "      <td>83</td>\n",
       "      <td>52</td>\n",
       "    </tr>\n",
       "    <tr>\n",
       "      <th>5349</th>\n",
       "      <td>105</td>\n",
       "      <td>76</td>\n",
       "    </tr>\n",
       "    <tr>\n",
       "      <th>6166</th>\n",
       "      <td>52</td>\n",
       "      <td>83</td>\n",
       "    </tr>\n",
       "  </tbody>\n",
       "</table>\n",
       "</div>"
      ],
      "text/plain": [
       "      points  opp_points\n",
       "1299      65          79\n",
       "7567      75          83\n",
       "6166      83          52\n",
       "5349     105          76\n",
       "6166      52          83"
      ]
     },
     "execution_count": 20,
     "metadata": {},
     "output_type": "execute_result"
    }
   ],
   "source": [
    "df[['points','opp_points']].head()"
   ]
  },
  {
   "cell_type": "code",
   "execution_count": null,
   "metadata": {},
   "outputs": [],
   "source": []
  },
  {
   "cell_type": "code",
   "execution_count": 12,
   "metadata": {},
   "outputs": [],
   "source": []
  },
  {
   "cell_type": "code",
   "execution_count": 22,
   "metadata": {},
   "outputs": [
    {
     "name": "stdout",
     "output_type": "stream",
     "text": [
      "['date', 'id', 'opp_id', 'game_id', 'season', 'win_id', 'lose_id', 'points', 'opp_points', 'offensive_rating', 'defensive_rating', 'pace', 'free_throws', 'two_point_field_goals', 'three_point_field_goals', 'offensive_rebounds', 'defensive_rebounds', 'opp_offensive_rebounds', 'opp_defensive_rebounds', 'wins', 'losses', 'opp_offensive_rating', 'opp_defensive_rating']\n"
     ]
    }
   ],
   "source": [
    "print(list(df))"
   ]
  },
  {
   "cell_type": "code",
   "execution_count": null,
   "metadata": {},
   "outputs": [],
   "source": []
  }
 ],
 "metadata": {
  "kernelspec": {
   "display_name": "Python 3",
   "language": "python",
   "name": "python3"
  },
  "language_info": {
   "codemirror_mode": {
    "name": "ipython",
    "version": 3
   },
   "file_extension": ".py",
   "mimetype": "text/x-python",
   "name": "python",
   "nbconvert_exporter": "python",
   "pygments_lexer": "ipython3",
   "version": "3.7.4"
  }
 },
 "nbformat": 4,
 "nbformat_minor": 2
}
