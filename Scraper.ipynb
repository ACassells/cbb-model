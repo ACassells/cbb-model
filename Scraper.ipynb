{
 "cells": [
  {
   "cell_type": "code",
   "execution_count": 1,
   "metadata": {},
   "outputs": [],
   "source": [
    "# https://medium.com/clarktech-sports/python-sports-analytics-made-simple-part-2-40e591a7f3db"
   ]
  },
  {
   "cell_type": "code",
   "execution_count": 40,
   "metadata": {},
   "outputs": [],
   "source": [
    "import pandas as pd\n",
    "import numpy as np\n",
    "\n",
    "from sportsreference.ncaab.teams import Teams\n",
    "from sportsreference.ncaab.boxscore import Boxscore\n",
    "from tqdm import tqdm"
   ]
  },
  {
   "cell_type": "code",
   "execution_count": null,
   "metadata": {},
   "outputs": [],
   "source": [
    "# game attributes\n",
    "['_arena', '_boxscore', '_date', '_datetime', '_game', '_location', '_opponent_abbr', '_opponent_conference', \n",
    " '_opponent_name', '_opponent_rank', '_overtimes', '_parse_abbreviation', '_parse_boxscore', '_parse_game_data', \n",
    " '_points_against', '_points_for', '_result', '_season_losses', '_season_wins', '_streak', '_time', '_type', \n",
    " 'arena', 'boxscore', 'boxscore_index', 'dataframe', 'dataframe_extended', 'date', 'datetime', 'game', 'location',\n",
    " 'opponent_abbr', 'opponent_conference', 'opponent_name', 'opponent_rank', 'overtimes', 'points_against', 'points_for'\n",
    " , 'result', 'season_losses', 'season_wins', 'streak', 'time', 'type']\n"
   ]
  },
  {
   "cell_type": "code",
   "execution_count": null,
   "metadata": {},
   "outputs": [],
   "source": [
    "# team attributes\n",
    "['_abbreviation', '_assist_percentage', '_assists', '_away_losses', '_away_wins', '_block_percentage', '_blocks',\n",
    " '_conference_losses', '_conference_wins', '_defensive_rebounds', '_effective_field_goal_percentage', \n",
    " '_field_goal_attempts', '_field_goal_percentage', '_field_goals', '_free_throw_attempt_rate', '_free_throw_attempts',\n",
    " '_free_throw_percentage', '_free_throws', '_free_throws_per_field_goal_attempt', '_games_played', '_home_losses', \n",
    " '_home_wins', '_losses', '_minutes_played', '_name', '_offensive_rating', '_offensive_rebound_percentage',\n",
    " '_offensive_rebounds', '_opp_assist_percentage', '_opp_assists', '_opp_block_percentage', '_opp_blocks', \n",
    " '_opp_defensive_rebounds', '_opp_effective_field_goal_percentage', '_opp_field_goal_attempts', \n",
    " '_opp_field_goal_percentage', '_opp_field_goals', '_opp_free_throw_attempt_rate', '_opp_free_throw_attempts', \n",
    " '_opp_free_throw_percentage', '_opp_free_throws', '_opp_free_throws_per_field_goal_attempt', '_opp_offensive_rating',\n",
    " '_opp_offensive_rebound_percentage', '_opp_offensive_rebounds', '_opp_personal_fouls', '_opp_points',\n",
    " '_opp_steal_percentage', '_opp_steals', '_opp_three_point_attempt_rate', '_opp_three_point_field_goal_attempts',\n",
    " '_opp_three_point_field_goal_percentage', '_opp_three_point_field_goals', '_opp_total_rebound_percentage', \n",
    " '_opp_total_rebounds', '_opp_true_shooting_percentage', '_opp_turnover_percentage', '_opp_turnovers',\n",
    " '_opp_two_point_field_goal_attempts', '_opp_two_point_field_goal_percentage', '_opp_two_point_field_goals', \n",
    " '_pace', '_parse_team_data', '_personal_fouls', '_points', '_simple_rating_system', '_steal_percentage', '_steals', \n",
    " '_strength_of_schedule', '_team_conference', '_three_point_attempt_rate', '_three_point_field_goal_attempts',\n",
    " '_three_point_field_goal_percentage', '_three_point_field_goals', '_total_rebound_percentage', '_total_rebounds',\n",
    " '_true_shooting_percentage', '_turnover_percentage', '_turnovers', '_two_point_field_goal_attempts',\n",
    " '_two_point_field_goal_percentage', '_two_point_field_goals', '_win_percentage', '_wins', '_year', 'abbreviation', \n",
    " 'assist_percentage', 'assists', 'away_losses', 'away_wins', 'block_percentage', 'blocks', 'conference',\n",
    " 'conference_losses', 'conference_wins', 'dataframe', 'defensive_rebounds', 'effective_field_goal_percentage', \n",
    " 'field_goal_attempts', 'field_goal_percentage', 'field_goals', 'free_throw_attempt_rate', 'free_throw_attempts', \n",
    " 'free_throw_percentage', 'free_throws', 'free_throws_per_field_goal_attempt', 'games_played', 'home_losses', \n",
    " 'home_wins', 'losses', 'minutes_played', 'name', 'net_rating', 'offensive_rating', 'offensive_rebound_percentage', \n",
    " 'offensive_rebounds', 'opp_assist_percentage', 'opp_assists', 'opp_block_percentage', 'opp_blocks', \n",
    " 'opp_defensive_rebounds', 'opp_effective_field_goal_percentage', 'opp_field_goal_attempts',\n",
    " 'opp_field_goal_percentage', 'opp_field_goals', 'opp_free_throw_attempt_rate', 'opp_free_throw_attempts', \n",
    " 'opp_free_throw_percentage', 'opp_free_throws', 'opp_free_throws_per_field_goal_attempt', 'opp_offensive_rating', \n",
    " 'opp_offensive_rebound_percentage', 'opp_offensive_rebounds', 'opp_personal_fouls', 'opp_points', \n",
    " 'opp_steal_percentage', 'opp_steals', 'opp_three_point_attempt_rate', 'opp_three_point_field_goal_attempts', \n",
    " 'opp_three_point_field_goal_percentage', 'opp_three_point_field_goals', 'opp_total_rebound_percentage', \n",
    " 'opp_total_rebounds', 'opp_true_shooting_percentage', 'opp_turnover_percentage', 'opp_turnovers',\n",
    " 'opp_two_point_field_goal_attempts', 'opp_two_point_field_goal_percentage', 'opp_two_point_field_goals', 'pace',\n",
    " 'personal_fouls', 'points', 'roster', 'schedule', 'simple_rating_system', 'steal_percentage', 'steals',\n",
    " 'strength_of_schedule', 'three_point_attempt_rate', 'three_point_field_goal_attempts', \n",
    " 'three_point_field_goal_percentage', 'three_point_field_goals', 'total_rebound_percentage', 'total_rebounds',\n",
    " 'true_shooting_percentage', 'turnover_percentage', 'turnovers', 'two_point_field_goal_attempts', \n",
    " 'two_point_field_goal_percentage', 'two_point_field_goals', 'win_percentage', 'wins']"
   ]
  },
  {
   "cell_type": "code",
   "execution_count": 16,
   "metadata": {},
   "outputs": [
    {
     "data": {
      "text/plain": [
       "<sportsreference.ncaab.teams.Team at 0x10e51ec50>"
      ]
     },
     "execution_count": 16,
     "metadata": {},
     "output_type": "execute_result"
    }
   ],
   "source": [
    "i = 0\n",
    "sample_team = None\n",
    "for team in Teams():\n",
    "    i+=1\n",
    "    if i > 1:\n",
    "        continue\n",
    "    else:\n",
    "        sample_team = team\n",
    "        \n",
    "sample_team"
   ]
  },
  {
   "cell_type": "code",
   "execution_count": 24,
   "metadata": {},
   "outputs": [
    {
     "data": {
      "text/plain": [
       "['__class__',\n",
       " '__delattr__',\n",
       " '__dict__',\n",
       " '__dir__',\n",
       " '__doc__',\n",
       " '__eq__',\n",
       " '__format__',\n",
       " '__ge__',\n",
       " '__getattribute__',\n",
       " '__gt__',\n",
       " '__hash__',\n",
       " '__init__',\n",
       " '__init_subclass__',\n",
       " '__le__',\n",
       " '__lt__',\n",
       " '__module__',\n",
       " '__ne__',\n",
       " '__new__',\n",
       " '__reduce__',\n",
       " '__reduce_ex__',\n",
       " '__repr__',\n",
       " '__setattr__',\n",
       " '__sizeof__',\n",
       " '__str__',\n",
       " '__subclasshook__',\n",
       " '__weakref__',\n",
       " '_away_assist_percentage',\n",
       " '_away_assists',\n",
       " '_away_block_percentage',\n",
       " '_away_blocks',\n",
       " '_away_defensive_rating',\n",
       " '_away_defensive_rebound_percentage',\n",
       " '_away_defensive_rebounds',\n",
       " '_away_effective_field_goal_percentage',\n",
       " '_away_field_goal_attempts',\n",
       " '_away_field_goal_percentage',\n",
       " '_away_field_goals',\n",
       " '_away_free_throw_attempt_rate',\n",
       " '_away_free_throw_attempts',\n",
       " '_away_free_throw_percentage',\n",
       " '_away_free_throws',\n",
       " '_away_minutes_played',\n",
       " '_away_name',\n",
       " '_away_offensive_rating',\n",
       " '_away_offensive_rebound_percentage',\n",
       " '_away_offensive_rebounds',\n",
       " '_away_personal_fouls',\n",
       " '_away_players',\n",
       " '_away_points',\n",
       " '_away_ranking',\n",
       " '_away_record',\n",
       " '_away_steal_percentage',\n",
       " '_away_steals',\n",
       " '_away_three_point_attempt_rate',\n",
       " '_away_three_point_field_goal_attempts',\n",
       " '_away_three_point_field_goal_percentage',\n",
       " '_away_three_point_field_goals',\n",
       " '_away_total_rebound_percentage',\n",
       " '_away_total_rebounds',\n",
       " '_away_true_shooting_percentage',\n",
       " '_away_turnover_percentage',\n",
       " '_away_turnovers',\n",
       " '_away_two_point_field_goal_attempts',\n",
       " '_away_two_point_field_goal_percentage',\n",
       " '_away_two_point_field_goals',\n",
       " '_date',\n",
       " '_extract_player_stats',\n",
       " '_find_boxscore_tables',\n",
       " '_find_player_id',\n",
       " '_find_player_name',\n",
       " '_find_players',\n",
       " '_home_assist_percentage',\n",
       " '_home_assists',\n",
       " '_home_block_percentage',\n",
       " '_home_blocks',\n",
       " '_home_defensive_rating',\n",
       " '_home_defensive_rebound_percentage',\n",
       " '_home_defensive_rebounds',\n",
       " '_home_effective_field_goal_percentage',\n",
       " '_home_field_goal_attempts',\n",
       " '_home_field_goal_percentage',\n",
       " '_home_field_goals',\n",
       " '_home_free_throw_attempt_rate',\n",
       " '_home_free_throw_attempts',\n",
       " '_home_free_throw_percentage',\n",
       " '_home_free_throws',\n",
       " '_home_minutes_played',\n",
       " '_home_name',\n",
       " '_home_offensive_rating',\n",
       " '_home_offensive_rebound_percentage',\n",
       " '_home_offensive_rebounds',\n",
       " '_home_personal_fouls',\n",
       " '_home_players',\n",
       " '_home_points',\n",
       " '_home_ranking',\n",
       " '_home_record',\n",
       " '_home_steal_percentage',\n",
       " '_home_steals',\n",
       " '_home_three_point_attempt_rate',\n",
       " '_home_three_point_field_goal_attempts',\n",
       " '_home_three_point_field_goal_percentage',\n",
       " '_home_three_point_field_goals',\n",
       " '_home_total_rebound_percentage',\n",
       " '_home_total_rebounds',\n",
       " '_home_true_shooting_percentage',\n",
       " '_home_turnover_percentage',\n",
       " '_home_turnovers',\n",
       " '_home_two_point_field_goal_attempts',\n",
       " '_home_two_point_field_goal_percentage',\n",
       " '_home_two_point_field_goals',\n",
       " '_instantiate_players',\n",
       " '_location',\n",
       " '_losing_abbr',\n",
       " '_losing_name',\n",
       " '_pace',\n",
       " '_parse_game_data',\n",
       " '_parse_game_date_and_location',\n",
       " '_parse_name',\n",
       " '_parse_ranking',\n",
       " '_parse_record',\n",
       " '_retrieve_html_page',\n",
       " '_uri',\n",
       " '_winner',\n",
       " '_winning_abbr',\n",
       " '_winning_name',\n",
       " 'away_assist_percentage',\n",
       " 'away_assists',\n",
       " 'away_block_percentage',\n",
       " 'away_blocks',\n",
       " 'away_defensive_rating',\n",
       " 'away_defensive_rebound_percentage',\n",
       " 'away_defensive_rebounds',\n",
       " 'away_effective_field_goal_percentage',\n",
       " 'away_field_goal_attempts',\n",
       " 'away_field_goal_percentage',\n",
       " 'away_field_goals',\n",
       " 'away_free_throw_attempt_rate',\n",
       " 'away_free_throw_attempts',\n",
       " 'away_free_throw_percentage',\n",
       " 'away_free_throws',\n",
       " 'away_losses',\n",
       " 'away_minutes_played',\n",
       " 'away_offensive_rating',\n",
       " 'away_offensive_rebound_percentage',\n",
       " 'away_offensive_rebounds',\n",
       " 'away_personal_fouls',\n",
       " 'away_players',\n",
       " 'away_points',\n",
       " 'away_ranking',\n",
       " 'away_steal_percentage',\n",
       " 'away_steals',\n",
       " 'away_three_point_attempt_rate',\n",
       " 'away_three_point_field_goal_attempts',\n",
       " 'away_three_point_field_goal_percentage',\n",
       " 'away_three_point_field_goals',\n",
       " 'away_total_rebound_percentage',\n",
       " 'away_total_rebounds',\n",
       " 'away_true_shooting_percentage',\n",
       " 'away_turnover_percentage',\n",
       " 'away_turnovers',\n",
       " 'away_two_point_field_goal_attempts',\n",
       " 'away_two_point_field_goal_percentage',\n",
       " 'away_two_point_field_goals',\n",
       " 'away_win_percentage',\n",
       " 'away_wins',\n",
       " 'dataframe',\n",
       " 'date',\n",
       " 'home_assist_percentage',\n",
       " 'home_assists',\n",
       " 'home_block_percentage',\n",
       " 'home_blocks',\n",
       " 'home_defensive_rating',\n",
       " 'home_defensive_rebound_percentage',\n",
       " 'home_defensive_rebounds',\n",
       " 'home_effective_field_goal_percentage',\n",
       " 'home_field_goal_attempts',\n",
       " 'home_field_goal_percentage',\n",
       " 'home_field_goals',\n",
       " 'home_free_throw_attempt_rate',\n",
       " 'home_free_throw_attempts',\n",
       " 'home_free_throw_percentage',\n",
       " 'home_free_throws',\n",
       " 'home_losses',\n",
       " 'home_minutes_played',\n",
       " 'home_offensive_rating',\n",
       " 'home_offensive_rebound_percentage',\n",
       " 'home_offensive_rebounds',\n",
       " 'home_personal_fouls',\n",
       " 'home_players',\n",
       " 'home_points',\n",
       " 'home_ranking',\n",
       " 'home_steal_percentage',\n",
       " 'home_steals',\n",
       " 'home_three_point_attempt_rate',\n",
       " 'home_three_point_field_goal_attempts',\n",
       " 'home_three_point_field_goal_percentage',\n",
       " 'home_three_point_field_goals',\n",
       " 'home_total_rebound_percentage',\n",
       " 'home_total_rebounds',\n",
       " 'home_true_shooting_percentage',\n",
       " 'home_turnover_percentage',\n",
       " 'home_turnovers',\n",
       " 'home_two_point_field_goal_attempts',\n",
       " 'home_two_point_field_goal_percentage',\n",
       " 'home_two_point_field_goals',\n",
       " 'home_win_percentage',\n",
       " 'home_wins',\n",
       " 'location',\n",
       " 'losing_abbr',\n",
       " 'losing_name',\n",
       " 'pace',\n",
       " 'winner',\n",
       " 'winning_abbr',\n",
       " 'winning_name']"
      ]
     },
     "execution_count": 24,
     "metadata": {},
     "output_type": "execute_result"
    }
   ],
   "source": [
    "i = 0\n",
    "for game in sample_team.schedule:\n",
    "    i+=1\n",
    "    if i > 1:\n",
    "        continue\n",
    "    else:\n",
    "        sample_bs = game.boxscore\n",
    "        \n",
    "dir(sample_bs)"
   ]
  },
  {
   "cell_type": "code",
   "execution_count": 33,
   "metadata": {},
   "outputs": [],
   "source": [
    "sample_bs.home_players\n",
    "sample_player = sample_bs.home_players[0]"
   ]
  },
  {
   "cell_type": "code",
   "execution_count": 39,
   "metadata": {},
   "outputs": [
    {
     "name": "stdout",
     "output_type": "stream",
     "text": [
      "['__class__', '__delattr__', '__dict__', '__dir__', '__doc__', '__eq__', '__format__', '__ge__', '__getattribute__', '__gt__', '__hash__', '__init__', '__init_subclass__', '__le__', '__lt__', '__module__', '__ne__', '__new__', '__reduce__', '__reduce_ex__', '__repr__', '__setattr__', '__sizeof__', '__str__', '__subclasshook__', '__weakref__', '_assist_percentage', '_assists', '_block_percentage', '_blocks', '_defensive_rating', '_defensive_rebound_percentage', '_defensive_rebounds', '_effective_field_goal_percentage', '_field_goal_attempts', '_field_goal_percentage', '_field_goals', '_free_throw_attempt_rate', '_free_throw_attempts', '_free_throw_percentage', '_free_throws', '_index', '_minutes_played', '_name', '_offensive_rating', '_offensive_rebound_percentage', '_offensive_rebounds', '_parse_player_data', '_parse_value', '_personal_fouls', '_player_data', '_player_id', '_points', '_steal_percentage', '_steals', '_three_point_attempt_rate', '_three_point_attempts', '_three_point_percentage', '_three_pointers', '_total_rebound_percentage', '_total_rebounds', '_true_shooting_percentage', '_turnover_percentage', '_turnovers', '_two_point_attempts', '_two_point_percentage', '_two_pointers', '_usage_percentage', 'assist_percentage', 'assists', 'block_percentage', 'blocks', 'dataframe', 'defensive_rating', 'defensive_rebound_percentage', 'defensive_rebounds', 'effective_field_goal_percentage', 'field_goal_attempts', 'field_goal_percentage', 'field_goals', 'free_throw_attempt_rate', 'free_throw_attempts', 'free_throw_percentage', 'free_throws', 'minutes_played', 'name', 'offensive_rating', 'offensive_rebound_percentage', 'offensive_rebounds', 'personal_fouls', 'player_id', 'points', 'steal_percentage', 'steals', 'three_point_attempt_rate', 'three_point_attempts', 'three_point_percentage', 'three_pointers', 'total_rebound_percentage', 'total_rebounds', 'true_shooting_percentage', 'turnover_percentage', 'turnovers', 'two_point_attempts', 'two_point_percentage', 'two_pointers', 'usage_percentage']\n"
     ]
    }
   ],
   "source": [
    "print(list(dir(sample_player)))"
   ]
  },
  {
   "cell_type": "code",
   "execution_count": 38,
   "metadata": {},
   "outputs": [
    {
     "name": "stdout",
     "output_type": "stream",
     "text": [
      "coryon-mason-1\n"
     ]
    }
   ],
   "source": [
    "print(sample_player.player_id)"
   ]
  },
  {
   "cell_type": "code",
   "execution_count": 44,
   "metadata": {},
   "outputs": [
    {
     "name": "stderr",
     "output_type": "stream",
     "text": [
      "\n",
      "  0%|          | 0/17 [00:00<?, ?it/s]\u001b[A\n",
      "  6%|▌         | 1/17 [02:28<39:42, 148.89s/it]\u001b[A\n",
      " 12%|█▏        | 2/17 [04:57<37:13, 148.89s/it]\u001b[A\n",
      " 18%|█▊        | 3/17 [07:30<34:59, 149.96s/it]\u001b[A\n",
      " 24%|██▎       | 4/17 [07:43<23:36, 108.95s/it]\u001b[A\n",
      " 29%|██▉       | 5/17 [10:21<24:45, 123.78s/it]\u001b[A\n",
      " 35%|███▌      | 6/17 [12:53<24:14, 132.23s/it]\u001b[A\n",
      " 41%|████      | 7/17 [15:27<23:06, 138.62s/it]\u001b[A\n",
      " 47%|████▋     | 8/17 [17:59<21:23, 142.64s/it]\u001b[A\n",
      " 53%|█████▎    | 9/17 [20:50<20:08, 151.11s/it]\u001b[A\n",
      " 59%|█████▉    | 10/17 [23:45<18:28, 158.41s/it]\u001b[A\n",
      " 65%|██████▍   | 11/17 [26:46<16:30, 165.05s/it]\u001b[A\n",
      " 71%|███████   | 12/17 [29:40<13:59, 167.91s/it]\u001b[A\n",
      " 76%|███████▋  | 13/17 [32:29<11:12, 168.17s/it]\u001b[A\n",
      " 82%|████████▏ | 14/17 [35:29<08:34, 171.54s/it]\u001b[A\n",
      " 88%|████████▊ | 15/17 [38:19<05:42, 171.20s/it]\u001b[A\n",
      " 94%|█████████▍| 16/17 [41:05<02:49, 169.54s/it]\u001b[A\n",
      "100%|██████████| 17/17 [43:48<00:00, 167.64s/it]\u001b[A"
     ]
    }
   ],
   "source": [
    "seasons = range(2011, 2020) # python is odd, this is 2011 - 2019\n",
    "\n",
    "master_array = []\n",
    "\n",
    "# takes a very long time\n",
    "for season in tqdm(seasons):\n",
    "    # a couple of teams don't have links\n",
    "    try:\n",
    "        season_team_list = Teams(str(season))\n",
    "        for team in season_team_list: #tqdm shows progress bar\n",
    "            team_schedule = team.schedule\n",
    "            for game in team_schedule:\n",
    "                boxscore = game.boxscore_index\n",
    "                master_array.append([str(season),team.name,boxscore])\n",
    "    except:\n",
    "        continue\n",
    "            \n",
    "schedule_df = pd.DataFrame(master_array, columns=['Season','TeamName','BoxscoreIndex'])"
   ]
  },
  {
   "cell_type": "code",
   "execution_count": 46,
   "metadata": {},
   "outputs": [
    {
     "name": "stdout",
     "output_type": "stream",
     "text": [
      "173824\n"
     ]
    }
   ],
   "source": [
    "print(len(schedule_df))"
   ]
  },
  {
   "cell_type": "code",
   "execution_count": 52,
   "metadata": {},
   "outputs": [
    {
     "data": {
      "text/plain": [
       "Season\n",
       "2011    11135\n",
       "2012    11145\n",
       "2013    11281\n",
       "2014    11455\n",
       "2015    11431\n",
       "2016    11468\n",
       "2017    11511\n",
       "2018    11542\n",
       "2019    11652\n",
       "Name: BoxscoreIndex, dtype: int64"
      ]
     },
     "execution_count": 52,
     "metadata": {},
     "output_type": "execute_result"
    }
   ],
   "source": [
    "schedule_df.groupby('Season')['BoxscoreIndex'].count()"
   ]
  },
  {
   "cell_type": "code",
   "execution_count": 54,
   "metadata": {},
   "outputs": [],
   "source": [
    "schedule_df.to_csv('./output/schedule.csv',index=None)"
   ]
  },
  {
   "cell_type": "code",
   "execution_count": 57,
   "metadata": {},
   "outputs": [
    {
     "name": "stdout",
     "output_type": "stream",
     "text": [
      "(1, 86)\n"
     ]
    }
   ],
   "source": [
    "print(sample_bs.dataframe.shape)"
   ]
  },
  {
   "cell_type": "code",
   "execution_count": 56,
   "metadata": {},
   "outputs": [
    {
     "name": "stdout",
     "output_type": "stream",
     "text": [
      "['away_assist_percentage', 'away_assists', 'away_block_percentage', 'away_blocks', 'away_defensive_rating', 'away_defensive_rebound_percentage', 'away_defensive_rebounds', 'away_effective_field_goal_percentage', 'away_field_goal_attempts', 'away_field_goal_percentage', 'away_field_goals', 'away_free_throw_attempt_rate', 'away_free_throw_attempts', 'away_free_throw_percentage', 'away_free_throws', 'away_losses', 'away_minutes_played', 'away_offensive_rating', 'away_offensive_rebound_percentage', 'away_offensive_rebounds', 'away_personal_fouls', 'away_points', 'away_ranking', 'away_steal_percentage', 'away_steals', 'away_three_point_attempt_rate', 'away_three_point_field_goal_attempts', 'away_three_point_field_goal_percentage', 'away_three_point_field_goals', 'away_total_rebound_percentage', 'away_total_rebounds', 'away_true_shooting_percentage', 'away_turnover_percentage', 'away_turnovers', 'away_two_point_field_goal_attempts', 'away_two_point_field_goal_percentage', 'away_two_point_field_goals', 'away_win_percentage', 'away_wins', 'date', 'home_assist_percentage', 'home_assists', 'home_block_percentage', 'home_blocks', 'home_defensive_rating', 'home_defensive_rebound_percentage', 'home_defensive_rebounds', 'home_effective_field_goal_percentage', 'home_field_goal_attempts', 'home_field_goal_percentage', 'home_field_goals', 'home_free_throw_attempt_rate', 'home_free_throw_attempts', 'home_free_throw_percentage', 'home_free_throws', 'home_losses', 'home_minutes_played', 'home_offensive_rating', 'home_offensive_rebound_percentage', 'home_offensive_rebounds', 'home_personal_fouls', 'home_points', 'home_ranking', 'home_steal_percentage', 'home_steals', 'home_three_point_attempt_rate', 'home_three_point_field_goal_attempts', 'home_three_point_field_goal_percentage', 'home_three_point_field_goals', 'home_total_rebound_percentage', 'home_total_rebounds', 'home_true_shooting_percentage', 'home_turnover_percentage', 'home_turnovers', 'home_two_point_field_goal_attempts', 'home_two_point_field_goal_percentage', 'home_two_point_field_goals', 'home_win_percentage', 'home_wins', 'location', 'losing_abbr', 'losing_name', 'pace', 'winner', 'winning_abbr', 'winning_name']\n"
     ]
    }
   ],
   "source": [
    "print(list(sample_bs.dataframe))"
   ]
  },
  {
   "cell_type": "code",
   "execution_count": 58,
   "metadata": {},
   "outputs": [
    {
     "name": "stdout",
     "output_type": "stream",
     "text": [
      "2019-11-05-20-abilene-christian    0.542\n",
      "Name: home_true_shooting_percentage, dtype: float64\n"
     ]
    }
   ],
   "source": [
    "print(sample_bs.dataframe.home_true_shooting_percentage)"
   ]
  },
  {
   "cell_type": "code",
   "execution_count": 60,
   "metadata": {},
   "outputs": [
    {
     "name": "stdout",
     "output_type": "stream",
     "text": [
      "2010-11-14-air-force\n"
     ]
    }
   ],
   "source": [
    "print(schedule_df.iloc[0].BoxscoreIndex)"
   ]
  },
  {
   "cell_type": "code",
   "execution_count": null,
   "metadata": {},
   "outputs": [],
   "source": [
    "from sportsreference.ncaab.boxscore import Boxscore\n",
    "\n",
    "box_df = None\n",
    "for index, row in tqdm(schedule_df.iterrows()):\n",
    "    box_link = row['BoxscoreIndex']\n",
    "    _df = Boxscore(box_link).dataframe\n",
    "    \n",
    "    \n",
    "    "
   ]
  }
 ],
 "metadata": {
  "kernelspec": {
   "display_name": "Python 3",
   "language": "python",
   "name": "python3"
  },
  "language_info": {
   "codemirror_mode": {
    "name": "ipython",
    "version": 3
   },
   "file_extension": ".py",
   "mimetype": "text/x-python",
   "name": "python",
   "nbconvert_exporter": "python",
   "pygments_lexer": "ipython3",
   "version": "3.7.4"
  }
 },
 "nbformat": 4,
 "nbformat_minor": 2
}
