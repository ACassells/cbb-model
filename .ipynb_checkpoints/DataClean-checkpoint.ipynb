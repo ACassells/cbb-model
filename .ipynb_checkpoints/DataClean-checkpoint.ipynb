{
 "cells": [
  {
   "cell_type": "code",
   "execution_count": 1,
   "metadata": {},
   "outputs": [],
   "source": [
    "import numpy as np\n",
    "import pandas as pd\n",
    "\n"
   ]
  },
  {
   "cell_type": "code",
   "execution_count": 3,
   "metadata": {},
   "outputs": [
    {
     "name": "stdout",
     "output_type": "stream",
     "text": [
      "102617\n"
     ]
    }
   ],
   "source": [
    "\n",
    "seasons = list(range(2011,2020))\n",
    "\n",
    "df = None\n",
    "\n",
    "for s in seasons:\n",
    "    path = './output/{}_boxscores.csv'.format(str(s))\n",
    "    _df = pd.read_csv(path)\n",
    "    \n",
    "    if df is not None:\n",
    "        df = pd.concat([df,_df],axis=0)\n",
    "    else:\n",
    "        df = _df\n",
    "        \n",
    "print(len(df))"
   ]
  },
  {
   "cell_type": "code",
   "execution_count": 6,
   "metadata": {},
   "outputs": [
    {
     "name": "stdout",
     "output_type": "stream",
     "text": [
      "away_ranking                              95468\n",
      "home_ranking                              92529\n",
      "location                                  14172\n",
      "away_offensive_rebound_percentage          2329\n",
      "home_minutes_played                        2329\n",
      "away_turnover_percentage                   2329\n",
      "away_true_shooting_percentage              2329\n",
      "away_total_rebound_percentage              2329\n",
      "away_steal_percentage                      2329\n",
      "away_assist_percentage                     2329\n",
      "away_offensive_rating                      2329\n",
      "away_free_throw_attempt_rate               2329\n",
      "away_effective_field_goal_percentage       2329\n",
      "away_defensive_rebound_percentage          2329\n",
      "away_defensive_rating                      2329\n",
      "away_block_percentage                      2329\n",
      "away_three_point_attempt_rate              2329\n",
      "home_offensive_rebound_percentage            81\n",
      "home_assist_percentage                       81\n",
      "home_defensive_rating                        81\n",
      "home_defensive_rebound_percentage            81\n",
      "home_effective_field_goal_percentage         81\n",
      "home_free_throw_attempt_rate                 81\n",
      "home_offensive_rating                        81\n",
      "home_block_percentage                        81\n",
      "home_total_rebound_percentage                81\n",
      "home_steal_percentage                        81\n",
      "home_turnover_percentage                     81\n",
      "home_true_shooting_percentage                81\n",
      "home_three_point_attempt_rate                81\n",
      "                                          ...  \n",
      "away_blocks                                   0\n",
      "winner                                        0\n",
      "away_assists                                  0\n",
      "away_steals                                   0\n",
      "away_total_rebounds                           0\n",
      "away_three_point_field_goal_attempts          0\n",
      "winning_abbr                                  0\n",
      "home_points                                   0\n",
      "home_steals                                   0\n",
      "home_losses                                   0\n",
      "home_free_throws                              0\n",
      "home_free_throw_attempts                      0\n",
      "home_field_goals                              0\n",
      "home_field_goal_percentage                    0\n",
      "home_field_goal_attempts                      0\n",
      "home_defensive_rebounds                       0\n",
      "home_blocks                                   0\n",
      "home_assists                                  0\n",
      "away_three_point_field_goal_percentage        0\n",
      "date                                          0\n",
      "away_wins                                     0\n",
      "away_win_percentage                           0\n",
      "away_two_point_field_goals                    0\n",
      "away_two_point_field_goal_percentage          0\n",
      "away_two_point_field_goal_attempts            0\n",
      "away_turnovers                                0\n",
      "home_total_rebounds                           0\n",
      "home_offensive_rebounds                       0\n",
      "away_three_point_field_goals                  0\n",
      "winning_name                                  0\n",
      "Length: 86, dtype: int64\n"
     ]
    }
   ],
   "source": [
    "print(df.isnull().sum(axis=0).sort_values(ascending=False))"
   ]
  },
  {
   "cell_type": "code",
   "execution_count": 17,
   "metadata": {},
   "outputs": [
    {
     "name": "stdout",
     "output_type": "stream",
     "text": [
      "0\n",
      "38\n"
     ]
    },
    {
     "data": {
      "text/plain": [
       "<matplotlib.axes._subplots.AxesSubplot at 0x11339d350>"
      ]
     },
     "execution_count": 17,
     "metadata": {},
     "output_type": "execute_result"
    },
    {
     "data": {
      "image/png": "[encoded data removed]",
      "text/plain": [
       "<Figure size 432x288 with 1 Axes>"
      ]
     },
     "metadata": {
      "needs_background": "light"
     },
     "output_type": "display_data"
    }
   ],
   "source": [
    "import seaborn as sns\n",
    "\n",
    "print(np.min(df.away_wins))\n",
    "print(np.max(df.away_wins))\n",
    "sns.distplot(df.away_wins)"
   ]
  },
  {
   "cell_type": "code",
   "execution_count": null,
   "metadata": {},
   "outputs": [],
   "source": []
  }
 ],
 "metadata": {
  "kernelspec": {
   "display_name": "Python 3",
   "language": "python",
   "name": "python3"
  },
  "language_info": {
   "codemirror_mode": {
    "name": "ipython",
    "version": 3
   },
   "file_extension": ".py",
   "mimetype": "text/x-python",
   "name": "python",
   "nbconvert_exporter": "python",
   "pygments_lexer": "ipython3",
   "version": "3.7.4"
  }
 },
 "nbformat": 4,
 "nbformat_minor": 2
}
